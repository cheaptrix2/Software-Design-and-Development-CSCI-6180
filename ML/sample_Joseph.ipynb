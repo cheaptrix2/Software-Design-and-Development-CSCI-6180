{
 "cells": [
  {
   "cell_type": "markdown",
   "id": "f4722821",
   "metadata": {},
   "source": [
    "### Might need to install these packeges if required."
   ]
  },
  {
   "cell_type": "code",
   "execution_count": 25,
   "id": "5e1ee975",
   "metadata": {},
   "outputs": [],
   "source": [
    "#pip install --user tensorflow\n",
    "#pip install --user joblib\n",
    "#pip install --user --upgrade scikit-learn"
   ]
  },
  {
   "cell_type": "code",
   "execution_count": 26,
   "id": "d3e9c896",
   "metadata": {},
   "outputs": [],
   "source": [
    "from ECGClass import ECGClassifier"
   ]
  },
  {
   "cell_type": "code",
   "execution_count": 27,
   "id": "86ac6136",
   "metadata": {},
   "outputs": [],
   "source": [
    "# This code block can be placed anywhere, like whenever server starts\n",
    "ecg_classifier = ECGClassifier() # Making an object\n",
    "ecg_classifier.load_model() # Making the model"
   ]
  },
  {
   "cell_type": "code",
   "execution_count": 28,
   "id": "222d8696",
   "metadata": {},
   "outputs": [],
   "source": [
    "file = 'Test.csv' # A test file without the final label"
   ]
  },
  {
   "cell_type": "code",
   "execution_count": 29,
   "id": "edf8eed3",
   "metadata": {
    "scrolled": true
   },
   "outputs": [],
   "source": [
    "ecg_classifier.load_data(file) # Load data "
   ]
  },
  {
   "cell_type": "code",
   "execution_count": 30,
   "id": "343e7537",
   "metadata": {},
   "outputs": [],
   "source": [
    "ecg_classifier.predict() # Perform prediction within the object"
   ]
  },
  {
   "cell_type": "code",
   "execution_count": 31,
   "id": "0aca20ed",
   "metadata": {},
   "outputs": [
    {
     "data": {
      "text/plain": [
       "['Abnormal', 'Normal', 'Abnormal']"
      ]
     },
     "execution_count": 31,
     "metadata": {},
     "output_type": "execute_result"
    }
   ],
   "source": [
    "ecg_classifier.print_predictions() # returns a list of prediction"
   ]
  },
  {
   "cell_type": "markdown",
   "id": "cc5b2b85",
   "metadata": {},
   "source": [
    "### An example of doing a second prediction."
   ]
  },
  {
   "cell_type": "markdown",
   "id": "af5eb8d2",
   "metadata": {},
   "source": [
    "- No need to initiate the object or load.model() again\n",
    "- Just call .load_data(new file) , then .predict(), then .print_predictions()"
   ]
  },
  {
   "cell_type": "code",
   "execution_count": 32,
   "id": "73bef74f",
   "metadata": {},
   "outputs": [],
   "source": [
    "file2 = 'Test - Copy.csv'"
   ]
  },
  {
   "cell_type": "code",
   "execution_count": 33,
   "id": "250a4fe8",
   "metadata": {
    "scrolled": true
   },
   "outputs": [],
   "source": [
    "ecg_classifier.load_data(file2)"
   ]
  },
  {
   "cell_type": "code",
   "execution_count": 34,
   "id": "1dae550c",
   "metadata": {},
   "outputs": [],
   "source": [
    "ecg_classifier.predict()"
   ]
  },
  {
   "cell_type": "code",
   "execution_count": 35,
   "id": "41f6af0b",
   "metadata": {},
   "outputs": [
    {
     "data": {
      "text/plain": [
       "['Abnormal', 'Normal']"
      ]
     },
     "execution_count": 35,
     "metadata": {},
     "output_type": "execute_result"
    }
   ],
   "source": [
    "ecg_classifier.print_predictions()"
   ]
  },
  {
   "cell_type": "code",
   "execution_count": null,
   "id": "97d7b527",
   "metadata": {},
   "outputs": [],
   "source": []
  }
 ],
 "metadata": {
  "kernelspec": {
   "display_name": "Python 3 (ipykernel)",
   "language": "python",
   "name": "python3"
  },
  "language_info": {
   "codemirror_mode": {
    "name": "ipython",
    "version": 3
   },
   "file_extension": ".py",
   "mimetype": "text/x-python",
   "name": "python",
   "nbconvert_exporter": "python",
   "pygments_lexer": "ipython3",
   "version": "3.11.5"
  }
 },
 "nbformat": 4,
 "nbformat_minor": 5
}
